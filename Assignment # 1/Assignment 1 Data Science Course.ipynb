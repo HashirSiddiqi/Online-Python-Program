{
 "cells": [
  {
   "cell_type": "code",
   "execution_count": 1,
   "id": "69f419ff",
   "metadata": {},
   "outputs": [
    {
     "name": "stdout",
     "output_type": "stream",
     "text": [
      "Twinkle twinkle little star,\n",
      "\tHow I wonder what you are!\n",
      "\t\tUp above the world so high,\n",
      "\t\tLike a diamond in the sky.\n",
      "Twinkle twinkle little star,\n",
      "\tHow I wonder what you are.\n"
     ]
    }
   ],
   "source": [
    "print(\"Twinkle twinkle little star,\\n\\tHow I wonder what you are!\\n\\t\\tUp above the world so high,\\n\\t\\tLike a diamond in the sky.\\nTwinkle twinkle little star,\\n\\tHow I wonder what you are.\")"
   ]
  },
  {
   "cell_type": "code",
   "execution_count": 2,
   "id": "7efdadb3",
   "metadata": {},
   "outputs": [
    {
     "name": "stdout",
     "output_type": "stream",
     "text": [
      "I am using python Version :: 3.9.7\n"
     ]
    }
   ],
   "source": [
    "from platform import python_version\n",
    "print(\"I am using python Version :: \" + python_version())"
   ]
  },
  {
   "cell_type": "code",
   "execution_count": 3,
   "id": "c3e20d01",
   "metadata": {},
   "outputs": [
    {
     "name": "stdout",
     "output_type": "stream",
     "text": [
      "Enter the radius of the Circle :: 4\n",
      "The Area of the Circle is ::  50.24\n"
     ]
    }
   ],
   "source": [
    "Radius = float(input(\"Enter the radius of the Circle :: \"))\n",
    "PI = 3.14\n",
    "area = PI * Radius * Radius \n",
    "print(\"The Area of the Circle is :: \",area)"
   ]
  },
  {
   "cell_type": "code",
   "execution_count": 4,
   "id": "f9c16481",
   "metadata": {},
   "outputs": [
    {
     "name": "stdout",
     "output_type": "stream",
     "text": [
      "Current Date and Time is :: \n",
      "2022-01-01  21:52:36\n"
     ]
    }
   ],
   "source": [
    "import datetime\n",
    "Current_data_time = datetime.datetime.now()\n",
    "print(\"Current Date and Time is :: \")\n",
    "print (Current_data_time.strftime(\"%Y-%m-%d  %H:%M:%S\"))"
   ]
  },
  {
   "cell_type": "code",
   "execution_count": 5,
   "id": "6a5a3a81",
   "metadata": {},
   "outputs": [
    {
     "name": "stdout",
     "output_type": "stream",
     "text": [
      "Enter First Name :: Hashir\n",
      "Enter Last Name :: Siddiqi\n",
      "Name in reverse order :: \n",
      "Siddiqi Hashir\n"
     ]
    }
   ],
   "source": [
    "First_name = input (\"Enter First Name :: \")\n",
    "Last_name = input (\"Enter Last Name :: \")\n",
    "print(\"Name in reverse order :: \")\n",
    "print(Last_name + \" \" + First_name)"
   ]
  },
  {
   "cell_type": "code",
   "execution_count": 6,
   "id": "0ebe9716",
   "metadata": {},
   "outputs": [
    {
     "name": "stdout",
     "output_type": "stream",
     "text": [
      "Enter first Input :: 10\n",
      "Enter Second Input :: 5\n",
      "Addition is ::  15\n"
     ]
    }
   ],
   "source": [
    "First_input = int(input(\"Enter first Input :: \"))\n",
    "Second_input = int(input(\"Enter Second Input :: \"))\n",
    "print(\"Addition is :: \",First_input+Second_input)"
   ]
  },
  {
   "cell_type": "code",
   "execution_count": null,
   "id": "3549e17b",
   "metadata": {},
   "outputs": [],
   "source": []
  }
 ],
 "metadata": {
  "kernelspec": {
   "display_name": "Python 3 (ipykernel)",
   "language": "python",
   "name": "python3"
  },
  "language_info": {
   "codemirror_mode": {
    "name": "ipython",
    "version": 3
   },
   "file_extension": ".py",
   "mimetype": "text/x-python",
   "name": "python",
   "nbconvert_exporter": "python",
   "pygments_lexer": "ipython3",
   "version": "3.9.7"
  }
 },
 "nbformat": 4,
 "nbformat_minor": 5
}
